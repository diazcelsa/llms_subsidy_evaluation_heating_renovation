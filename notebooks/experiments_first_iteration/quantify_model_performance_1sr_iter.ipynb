{
 "cells": [
  {
   "cell_type": "markdown",
   "metadata": {},
   "source": [
    "## Quantify similarity/divergence of human vs synthetic"
   ]
  },
  {
   "cell_type": "code",
   "execution_count": 98,
   "metadata": {},
   "outputs": [
    {
     "name": "stdout",
     "output_type": "stream",
     "text": [
      "The autoreload extension is already loaded. To reload it, use:\n",
      "  %reload_ext autoreload\n"
     ]
    }
   ],
   "source": [
    "import sys\n",
    "sys.path.append(\"../../../\")\n",
    "\n",
    "import numpy as np\n",
    "import pandas as pd\n",
    "\n",
    "from src.eval_utils.metric_calculator import ResultEvaluator\n",
    "\n",
    "import warnings\n",
    "warnings.filterwarnings('ignore')\n",
    "\n",
    "%load_ext autoreload\n",
    "%autoreload 2"
   ]
  },
  {
   "cell_type": "markdown",
   "metadata": {},
   "source": [
    "### 1. Load results"
   ]
  },
  {
   "cell_type": "code",
   "execution_count": 102,
   "metadata": {},
   "outputs": [],
   "source": [
    "samples = [806927261, 661238641, 817443461]\n",
    "final_columns = ['ea801', 'ea802', 'ea803', 'ea804', 'ea805', 'ea806', 'ea807', 'ea808', 'ea809', 'ea810', 'ea811', \n",
    "                 'ea812', 'ea813', 'ea814', 'ea815']\n",
    "opportunity_cost = [0, 50, 100, 150, 200, 250, 300, 350, 400, 450, 500, 600, 700, 900, 1200]\n",
    "# Generate dataframe for evaluation\n",
    "econometric_factors = ['is_east','total_income_level','city_size','is_high_wealth','high_education_level','building_period','prof_status',\n",
    "                       'n_housholds','building_type','kf10']\n",
    "optional_factors = ['pol_orientation','is_altruist','nature_level','ownership_level','profit_focus']\n",
    "columns_to_exclude_ols = ['success', 'label', 'temperature', 'decision', 'key', \n",
    "                      'citizen_type', 'profit_focus_long', 'profit_focus_short', \n",
    "                      'ownership_level_Medium', 'ownership_level_High', \n",
    "                      'nature_level_High', 'nature_level_Medium', \n",
    "                      'pol_orientation_left', 'pol_orientation_right', \n",
    "                      'pol_orientation_center', 'is_altruist']\n",
    "\n",
    "df_sample = pd.read_csv(\"../../../data/ariadne/heating_buildings/df_cata_sample_50_processed_relevant_factors_citizen_type.csv\", encoding='ISO-8859-1')\n",
    "df_questions = pd.read_csv(\"../../../data/ariadne/heating_buildings/questions_selected_survey_mapper_encoded.csv\", sep=';', encoding='utf-8', on_bad_lines='skip')"
   ]
  },
  {
   "cell_type": "markdown",
   "metadata": {},
   "source": [
    "### 2.Evaluate performance for temperature 0.5 in 3 samples over 3 iterations"
   ]
  },
  {
   "cell_type": "code",
   "execution_count": null,
   "metadata": {},
   "outputs": [],
   "source": [
    "output_file = '../../../data/ariadne/heating_buildings/experiment_1/20231230_0301/recurrent_gpt-4-1106-preview-t_0.5_qa.csv'\n",
    "df_synthetic_samples = pd.read_csv(output_file)"
   ]
  },
  {
   "cell_type": "code",
   "execution_count": 108,
   "metadata": {},
   "outputs": [],
   "source": [
    "evaluator = ResultEvaluator(final_columns=final_columns, opportunity_costs=opportunity_cost)\n",
    "df_sample_sel = evaluator.format_initial_data(df_sample, samples, econometric_factors, optional_factors)\n",
    "df_synthetic_pivot = evaluator.pivot_with_opportunity_cost(df_synthetic_samples)\n",
    "df_human_pivot = evaluator.pivot_with_opportunity_cost(df_sample_sel)\n",
    "df_human_sample_comp = df_sample_sel.merge(df_human_pivot, on='key')\n",
    "df_synthetic_sample_comp = df_sample_sel.merge(df_synthetic_pivot, on='key')\n",
    "df_human_sample_trf = evaluator.prepare_for_ols_logistic_regression(df_human_sample_comp)\n",
    "df_synthetic_sample_trf = evaluator.prepare_for_ols_logistic_regression(df_synthetic_sample_comp)\n",
    "model_synthetic, summary_synthetic = evaluator.fit_ols_logistic_regression(df_synthetic_sample_trf, 'choice', columns_to_exclude_ols)"
   ]
  },
  {
   "cell_type": "code",
   "execution_count": 110,
   "metadata": {},
   "outputs": [
    {
     "name": "stdout",
     "output_type": "stream",
     "text": [
      "                            OLS Regression Results                            \n",
      "==============================================================================\n",
      "Dep. Variable:                 choice   R-squared:                       0.337\n",
      "Model:                            OLS   Adj. R-squared:                  0.317\n",
      "Method:                 Least Squares   F-statistic:                     16.51\n",
      "Date:                Sat, 30 Dec 2023   Prob (F-statistic):           5.78e-11\n",
      "Time:                        04:08:28   Log-Likelihood:                -69.620\n",
      "No. Observations:                 135   AIC:                             149.2\n",
      "Df Residuals:                     130   BIC:                             163.8\n",
      "Df Model:                           4                                         \n",
      "Covariance Type:            nonrobust                                         \n",
      "======================================================================================================================\n",
      "                                                         coef    std err          t      P>|t|      [0.025      0.975]\n",
      "----------------------------------------------------------------------------------------------------------------------\n",
      "is_east                                               -0.3046      0.102     -2.984      0.003      -0.507      -0.103\n",
      "is_high_wealth                                      -2.02e-14   5.99e-15     -3.370      0.001   -3.21e-14   -8.34e-15\n",
      "n_housholds                                           -0.2195      0.127     -1.723      0.087      -0.472       0.033\n",
      "kf10                                                   0.0037      0.001      3.063      0.003       0.001       0.006\n",
      "opportunity_cost                                      -0.0008      0.000     -7.276      0.000      -0.001      -0.001\n",
      "iter                                                   0.0667      0.044      1.531      0.128      -0.019       0.153\n",
      "total_income_level_high_income                        -0.1098      0.064     -1.723      0.087      -0.236       0.016\n",
      "city_size_small                                       -0.1098      0.064     -1.723      0.087      -0.236       0.016\n",
      "high_education_level_academic                         -0.3046      0.102     -2.984      0.003      -0.507      -0.103\n",
      "high_education_level_professional                      0.1948      0.044      4.438      0.000       0.108       0.282\n",
      "building_period_1978_2001                             -0.1098      0.064     -1.723      0.087      -0.236       0.016\n",
      "prof_status_employed                                  -0.1098      0.064     -1.723      0.087      -0.236       0.016\n",
      "building_type_freistehendes Ein-/ Zweifamilienhaus    -0.1098      0.064     -1.723      0.087      -0.236       0.016\n",
      "==============================================================================\n",
      "Omnibus:                        6.112   Durbin-Watson:                   0.573\n",
      "Prob(Omnibus):                  0.047   Jarque-Bera (JB):                6.274\n",
      "Skew:                          -0.505   Prob(JB):                       0.0434\n",
      "Kurtosis:                       2.691   Cond. No.                     4.92e+36\n",
      "==============================================================================\n",
      "\n",
      "Notes:\n",
      "[1] Standard Errors assume that the covariance matrix of the errors is correctly specified.\n",
      "[2] The smallest eigenvalue is 2.63e-66. This might indicate that there are\n",
      "strong multicollinearity problems or that the design matrix is singular.\n"
     ]
    }
   ],
   "source": [
    "print(summary_synthetic)"
   ]
  },
  {
   "cell_type": "code",
   "execution_count": 111,
   "metadata": {},
   "outputs": [],
   "source": [
    "df_concatenated = evaluator.concatenate_and_transform_dfs(df_human_sample_trf, df_synthetic_sample_trf)\n",
    "model, summary = evaluator.fit_ols_logistic_regression(df_concatenated, 'choice', columns_to_exclude_ols + ['iter'])"
   ]
  },
  {
   "cell_type": "code",
   "execution_count": 112,
   "metadata": {},
   "outputs": [
    {
     "name": "stdout",
     "output_type": "stream",
     "text": [
      "                            OLS Regression Results                            \n",
      "==============================================================================\n",
      "Dep. Variable:                 choice   R-squared:                       0.214\n",
      "Model:                            OLS   Adj. R-squared:                  0.196\n",
      "Method:                 Least Squares   F-statistic:                     11.89\n",
      "Date:                Sat, 30 Dec 2023   Prob (F-statistic):           1.45e-08\n",
      "Time:                        04:09:35   Log-Likelihood:                -108.61\n",
      "No. Observations:                 180   AIC:                             227.2\n",
      "Df Residuals:                     175   BIC:                             243.2\n",
      "Df Model:                           4                                         \n",
      "Covariance Type:            nonrobust                                         \n",
      "======================================================================================================================\n",
      "                                                         coef    std err          t      P>|t|      [0.025      0.975]\n",
      "----------------------------------------------------------------------------------------------------------------------\n",
      "is_east                                                0.0586      0.096      0.610      0.543      -0.131       0.248\n",
      "is_high_wealth                                     -2.095e-15   1.43e-14     -0.146      0.884   -3.04e-14    2.62e-14\n",
      "n_housholds                                            0.2335      0.120      1.943      0.054      -0.004       0.471\n",
      "kf10                                                  -0.0007      0.001     -0.610      0.542      -0.003       0.002\n",
      "opportunity_cost                                      -0.0007      0.000     -6.743      0.000      -0.001      -0.000\n",
      "total_income_level_high_income                         0.1167      0.060      1.943      0.054      -0.002       0.235\n",
      "city_size_small                                        0.1167      0.060      1.943      0.054      -0.002       0.235\n",
      "high_education_level_academic                          0.0586      0.096      0.610      0.543      -0.131       0.248\n",
      "high_education_level_professional                      0.0581      0.041      1.404      0.162      -0.024       0.140\n",
      "building_period_1978_2001                              0.1167      0.060      1.943      0.054      -0.002       0.235\n",
      "prof_status_employed                                   0.1167      0.060      1.943      0.054      -0.002       0.235\n",
      "building_type_freistehendes Ein-/ Zweifamilienhaus     0.1167      0.060      1.943      0.054      -0.002       0.235\n",
      "is_synthetic                                           0.0593      0.077      0.767      0.444      -0.093       0.212\n",
      "==============================================================================\n",
      "Omnibus:                       43.151   Durbin-Watson:                   0.412\n",
      "Prob(Omnibus):                  0.000   Jarque-Bera (JB):                8.949\n",
      "Skew:                          -0.087   Prob(JB):                       0.0114\n",
      "Kurtosis:                       1.922   Cond. No.                     1.86e+38\n",
      "==============================================================================\n",
      "\n",
      "Notes:\n",
      "[1] Standard Errors assume that the covariance matrix of the errors is correctly specified.\n",
      "[2] The smallest eigenvalue is 2.47e-69. This might indicate that there are\n",
      "strong multicollinearity problems or that the design matrix is singular.\n"
     ]
    }
   ],
   "source": [
    "print(summary)"
   ]
  },
  {
   "cell_type": "markdown",
   "metadata": {},
   "source": [
    "### 3.Evaluate performance for temperature 0.7 in 3 samples over 3 iterations"
   ]
  },
  {
   "cell_type": "code",
   "execution_count": 113,
   "metadata": {},
   "outputs": [],
   "source": [
    "output_file = '../../../data/ariadne/heating_buildings/experiment_1/20231230_1053/recurrent_gpt-4-1106-preview-t_0.7_qa.csv'\n",
    "df_synthetic_samples = pd.read_csv(output_file)"
   ]
  },
  {
   "cell_type": "code",
   "execution_count": 116,
   "metadata": {},
   "outputs": [],
   "source": [
    "evaluator = ResultEvaluator(final_columns=final_columns, opportunity_costs=opportunity_cost)\n",
    "df_sample_sel = evaluator.format_initial_data(df_sample, samples, econometric_factors, optional_factors)\n",
    "df_synthetic_pivot = evaluator.pivot_with_opportunity_cost(df_synthetic_samples)\n",
    "df_human_pivot = evaluator.pivot_with_opportunity_cost(df_sample_sel)\n",
    "df_human_sample_comp = df_sample_sel.merge(df_human_pivot, on='key')\n",
    "df_synthetic_sample_comp = df_sample_sel.merge(df_synthetic_pivot, on='key')\n",
    "df_human_sample_trf = evaluator.prepare_for_ols_logistic_regression(df_human_sample_comp)\n",
    "df_synthetic_sample_trf = evaluator.prepare_for_ols_logistic_regression(df_synthetic_sample_comp)\n",
    "model_synthetic, summary_synthetic = evaluator.fit_ols_logistic_regression(df_synthetic_sample_trf, 'choice', columns_to_exclude_ols)"
   ]
  },
  {
   "cell_type": "code",
   "execution_count": 117,
   "metadata": {},
   "outputs": [
    {
     "name": "stdout",
     "output_type": "stream",
     "text": [
      "                            OLS Regression Results                            \n",
      "==============================================================================\n",
      "Dep. Variable:                 choice   R-squared:                       0.404\n",
      "Model:                            OLS   Adj. R-squared:                  0.386\n",
      "Method:                 Least Squares   F-statistic:                     22.03\n",
      "Date:                Sat, 30 Dec 2023   Prob (F-statistic):           6.71e-14\n",
      "Time:                        11:02:29   Log-Likelihood:                -57.168\n",
      "No. Observations:                 135   AIC:                             124.3\n",
      "Df Residuals:                     130   BIC:                             138.9\n",
      "Df Model:                           4                                         \n",
      "Covariance Type:            nonrobust                                         \n",
      "======================================================================================================================\n",
      "                                                         coef    std err          t      P>|t|      [0.025      0.975]\n",
      "----------------------------------------------------------------------------------------------------------------------\n",
      "is_east                                               -0.1441      0.093     -1.548      0.124      -0.328       0.040\n",
      "is_high_wealth                                     -8.771e-15   5.47e-15     -1.604      0.111   -1.96e-14    2.04e-15\n",
      "n_housholds                                           -0.1535      0.116     -1.321      0.189      -0.383       0.076\n",
      "kf10                                                   0.0034      0.001      3.079      0.003       0.001       0.006\n",
      "opportunity_cost                                      -0.0008      0.000     -7.715      0.000      -0.001      -0.001\n",
      "iter                                                  -0.0111      0.040     -0.280      0.780      -0.090       0.067\n",
      "total_income_level_high_income                        -0.0767      0.058     -1.321      0.189      -0.192       0.038\n",
      "city_size_small                                       -0.0767      0.058     -1.321      0.189      -0.192       0.038\n",
      "high_education_level_academic                         -0.1441      0.093     -1.548      0.124      -0.328       0.040\n",
      "high_education_level_professional                      0.0674      0.040      1.683      0.095      -0.012       0.147\n",
      "building_period_1978_2001                             -0.0767      0.058     -1.321      0.189      -0.192       0.038\n",
      "prof_status_employed                                  -0.0767      0.058     -1.321      0.189      -0.192       0.038\n",
      "building_type_freistehendes Ein-/ Zweifamilienhaus    -0.0767      0.058     -1.321      0.189      -0.192       0.038\n",
      "==============================================================================\n",
      "Omnibus:                        2.766   Durbin-Watson:                   0.487\n",
      "Prob(Omnibus):                  0.251   Jarque-Bera (JB):                2.544\n",
      "Skew:                          -0.254   Prob(JB):                        0.280\n",
      "Kurtosis:                       2.559   Cond. No.                     4.92e+36\n",
      "==============================================================================\n",
      "\n",
      "Notes:\n",
      "[1] Standard Errors assume that the covariance matrix of the errors is correctly specified.\n",
      "[2] The smallest eigenvalue is 2.63e-66. This might indicate that there are\n",
      "strong multicollinearity problems or that the design matrix is singular.\n"
     ]
    }
   ],
   "source": [
    "print(summary_synthetic)"
   ]
  },
  {
   "cell_type": "code",
   "execution_count": 118,
   "metadata": {},
   "outputs": [],
   "source": [
    "df_concatenated = evaluator.concatenate_and_transform_dfs(df_human_sample_trf, df_synthetic_sample_trf)\n",
    "model, summary = evaluator.fit_ols_logistic_regression(df_concatenated, 'choice', columns_to_exclude_ols + ['iter'])"
   ]
  },
  {
   "cell_type": "code",
   "execution_count": 119,
   "metadata": {},
   "outputs": [
    {
     "name": "stdout",
     "output_type": "stream",
     "text": [
      "                            OLS Regression Results                            \n",
      "==============================================================================\n",
      "Dep. Variable:                 choice   R-squared:                       0.267\n",
      "Model:                            OLS   Adj. R-squared:                  0.250\n",
      "Method:                 Least Squares   F-statistic:                     15.91\n",
      "Date:                Sat, 30 Dec 2023   Prob (F-statistic):           3.95e-11\n",
      "Time:                        11:02:44   Log-Likelihood:                -98.618\n",
      "No. Observations:                 180   AIC:                             207.2\n",
      "Df Residuals:                     175   BIC:                             223.2\n",
      "Df Model:                           4                                         \n",
      "Covariance Type:            nonrobust                                         \n",
      "======================================================================================================================\n",
      "                                                         coef    std err          t      P>|t|      [0.025      0.975]\n",
      "----------------------------------------------------------------------------------------------------------------------\n",
      "is_east                                                0.1745      0.091      1.920      0.056      -0.005       0.354\n",
      "is_high_wealth                                     -2.429e-14   1.36e-14     -1.792      0.075    -5.1e-14    2.47e-15\n",
      "n_housholds                                            0.2560      0.114      2.252      0.026       0.032       0.480\n",
      "kf10                                                  -0.0009      0.001     -0.860      0.391      -0.003       0.001\n",
      "opportunity_cost                                      -0.0007   9.87e-05     -6.925      0.000      -0.001      -0.000\n",
      "total_income_level_high_income                         0.1280      0.057      2.252      0.026       0.016       0.240\n",
      "city_size_small                                        0.1280      0.057      2.252      0.026       0.016       0.240\n",
      "high_education_level_academic                          0.1745      0.091      1.920      0.056      -0.005       0.354\n",
      "high_education_level_professional                     -0.0465      0.039     -1.187      0.237      -0.124       0.031\n",
      "building_period_1978_2001                              0.1280      0.057      2.252      0.026       0.016       0.240\n",
      "prof_status_employed                                   0.1280      0.057      2.252      0.026       0.016       0.240\n",
      "building_type_freistehendes Ein-/ Zweifamilienhaus     0.1280      0.057      2.252      0.026       0.016       0.240\n",
      "is_synthetic                                           0.1556      0.073      2.129      0.035       0.011       0.300\n",
      "==============================================================================\n",
      "Omnibus:                       13.535   Durbin-Watson:                   0.337\n",
      "Prob(Omnibus):                  0.001   Jarque-Bera (JB):                5.227\n",
      "Skew:                          -0.077   Prob(JB):                       0.0733\n",
      "Kurtosis:                       2.179   Cond. No.                     1.86e+38\n",
      "==============================================================================\n",
      "\n",
      "Notes:\n",
      "[1] Standard Errors assume that the covariance matrix of the errors is correctly specified.\n",
      "[2] The smallest eigenvalue is 2.47e-69. This might indicate that there are\n",
      "strong multicollinearity problems or that the design matrix is singular.\n"
     ]
    }
   ],
   "source": [
    "print(summary)"
   ]
  },
  {
   "cell_type": "code",
   "execution_count": null,
   "metadata": {},
   "outputs": [],
   "source": []
  }
 ],
 "metadata": {
  "kernelspec": {
   "display_name": "venv",
   "language": "python",
   "name": "python3"
  },
  "language_info": {
   "codemirror_mode": {
    "name": "ipython",
    "version": 3
   },
   "file_extension": ".py",
   "mimetype": "text/x-python",
   "name": "python",
   "nbconvert_exporter": "python",
   "pygments_lexer": "ipython3",
   "version": "3.8.17"
  }
 },
 "nbformat": 4,
 "nbformat_minor": 2
}
