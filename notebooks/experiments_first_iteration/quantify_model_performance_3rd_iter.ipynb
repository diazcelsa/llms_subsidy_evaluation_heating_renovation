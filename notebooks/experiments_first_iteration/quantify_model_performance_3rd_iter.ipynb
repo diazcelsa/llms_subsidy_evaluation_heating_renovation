{
 "cells": [
  {
   "cell_type": "markdown",
   "metadata": {},
   "source": [
    "## Quantify similarity/divergence of human vs synthetic"
   ]
  },
  {
   "cell_type": "code",
   "execution_count": 1,
   "metadata": {},
   "outputs": [],
   "source": [
    "import sys\n",
    "sys.path.append(\"../../../\")\n",
    "\n",
    "import numpy as np\n",
    "import pandas as pd\n",
    "\n",
    "from src.eval_utils.metric_calculator import ResultEvaluator\n",
    "\n",
    "import warnings\n",
    "warnings.filterwarnings('ignore')\n",
    "\n",
    "%load_ext autoreload\n",
    "%autoreload 2"
   ]
  },
  {
   "cell_type": "markdown",
   "metadata": {},
   "source": [
    "### 1. Load results"
   ]
  },
  {
   "cell_type": "code",
   "execution_count": 2,
   "metadata": {},
   "outputs": [],
   "source": [
    "samples = [806927261, 661238641, 817443461]\n",
    "final_columns = ['ea801', 'ea802', 'ea803', 'ea804', 'ea805', 'ea806', 'ea807', 'ea808', 'ea809', 'ea810', 'ea811', \n",
    "                 'ea812', 'ea813', 'ea814', 'ea815']\n",
    "opportunity_cost = [0, 50, 100, 150, 200, 250, 300, 350, 400, 450, 500, 600, 700, 900, 1200]\n",
    "# Generate dataframe for evaluation\n",
    "econometric_factors = ['is_east','total_income_level','city_size','is_high_wealth','high_education_level','building_period','prof_status',\n",
    "                       'n_housholds','building_type','kf10']\n",
    "optional_factors = ['pol_orientation','is_altruist','nature_level','ownership_level','profit_focus']\n",
    "columns_to_exclude_ols = ['success', 'label', 'temperature', 'decision', 'key', \n",
    "                      'citizen_type', 'profit_focus_long', 'profit_focus_short', \n",
    "                      'ownership_level_Medium', 'ownership_level_High', \n",
    "                      'nature_level_High', 'nature_level_Medium', \n",
    "                      'pol_orientation_left', 'pol_orientation_right', \n",
    "                      'pol_orientation_center', 'is_altruist']\n",
    "\n",
    "df_sample = pd.read_csv(\"../../../data/ariadne/heating_buildings/df_cata_sample_50_processed_relevant_factors_citizen_type.csv\", encoding='ISO-8859-1')\n",
    "df_questions = pd.read_csv(\"../../../data/ariadne/heating_buildings/questions_selected_survey_mapper_encoded.csv\", sep=';', encoding='utf-8', on_bad_lines='skip')"
   ]
  },
  {
   "cell_type": "markdown",
   "metadata": {},
   "source": [
    "### 2.Evaluate performance for temperature 0.6 in 3 samples over 3 iterations with random questions & emotional considerations prompt"
   ]
  },
  {
   "cell_type": "code",
   "execution_count": 8,
   "metadata": {},
   "outputs": [],
   "source": [
    "output_file = '../../../data/ariadne/heating_buildings/experiment_1/20240102_1324/recurrent_gpt-4-1106-preview-t_0.6_qa.csv'\n",
    "df_synthetic_samples = pd.read_csv(output_file)"
   ]
  },
  {
   "cell_type": "code",
   "execution_count": 9,
   "metadata": {},
   "outputs": [],
   "source": [
    "evaluator = ResultEvaluator(final_columns=final_columns, opportunity_costs=opportunity_cost)\n",
    "df_sample_sel = evaluator.format_initial_data(df_sample, samples, econometric_factors, optional_factors)\n",
    "df_synthetic_pivot = evaluator.pivot_with_opportunity_cost(df_synthetic_samples)\n",
    "df_human_pivot = evaluator.pivot_with_opportunity_cost(df_sample_sel)\n",
    "df_human_sample_comp = df_sample_sel.merge(df_human_pivot, on='key')\n",
    "df_synthetic_sample_comp = df_sample_sel.merge(df_synthetic_pivot, on='key')\n",
    "df_human_sample_trf = evaluator.prepare_for_ols_logistic_regression(df_human_sample_comp)\n",
    "df_synthetic_sample_trf = evaluator.prepare_for_ols_logistic_regression(df_synthetic_sample_comp)\n",
    "model_synthetic, summary_synthetic = evaluator.fit_ols_logistic_regression(df_synthetic_sample_trf, 'choice', columns_to_exclude_ols)"
   ]
  },
  {
   "cell_type": "code",
   "execution_count": 10,
   "metadata": {},
   "outputs": [
    {
     "name": "stdout",
     "output_type": "stream",
     "text": [
      "                            OLS Regression Results                            \n",
      "==============================================================================\n",
      "Dep. Variable:                 choice   R-squared:                       0.476\n",
      "Model:                            OLS   Adj. R-squared:                  0.460\n",
      "Method:                 Least Squares   F-statistic:                     29.54\n",
      "Date:                Tue, 02 Jan 2024   Prob (F-statistic):           1.79e-17\n",
      "Time:                        15:45:22   Log-Likelihood:                -37.763\n",
      "No. Observations:                 135   AIC:                             85.53\n",
      "Df Residuals:                     130   BIC:                             100.1\n",
      "Df Model:                           4                                         \n",
      "Covariance Type:            nonrobust                                         \n",
      "======================================================================================================================\n",
      "                                                         coef    std err          t      P>|t|      [0.025      0.975]\n",
      "----------------------------------------------------------------------------------------------------------------------\n",
      "is_east                                                0.4982      0.081      6.179      0.000       0.339       0.658\n",
      "is_high_wealth                                       2.91e-14   4.73e-15      6.147      0.000    1.97e-14    3.85e-14\n",
      "n_housholds                                            0.6015      0.101      5.977      0.000       0.402       0.801\n",
      "kf10                                                  -0.0046      0.001     -4.848      0.000      -0.007      -0.003\n",
      "opportunity_cost                                      -0.0007   8.76e-05     -8.323      0.000      -0.001      -0.001\n",
      "iter                                                7.806e-17      0.034   2.27e-15      1.000      -0.068       0.068\n",
      "total_income_level_high_income                         0.3007      0.050      5.977      0.000       0.201       0.400\n",
      "city_size_small                                        0.3007      0.050      5.977      0.000       0.201       0.400\n",
      "high_education_level_academic                          0.4982      0.081      6.179      0.000       0.339       0.658\n",
      "high_education_level_professional                     -0.1975      0.035     -5.696      0.000      -0.266      -0.129\n",
      "building_period_1978_2001                              0.3007      0.050      5.977      0.000       0.201       0.400\n",
      "prof_status_employed                                   0.3007      0.050      5.977      0.000       0.201       0.400\n",
      "building_type_freistehendes Ein-/ Zweifamilienhaus     0.3007      0.050      5.977      0.000       0.201       0.400\n",
      "==============================================================================\n",
      "Omnibus:                      101.608   Durbin-Watson:                   0.590\n",
      "Prob(Omnibus):                  0.000   Jarque-Bera (JB):               10.233\n",
      "Skew:                           0.143   Prob(JB):                      0.00600\n",
      "Kurtosis:                       1.682   Cond. No.                     4.92e+36\n",
      "==============================================================================\n",
      "\n",
      "Notes:\n",
      "[1] Standard Errors assume that the covariance matrix of the errors is correctly specified.\n",
      "[2] The smallest eigenvalue is 2.63e-66. This might indicate that there are\n",
      "strong multicollinearity problems or that the design matrix is singular.\n"
     ]
    }
   ],
   "source": [
    "print(summary_synthetic)"
   ]
  },
  {
   "cell_type": "code",
   "execution_count": 11,
   "metadata": {},
   "outputs": [],
   "source": [
    "df_concatenated = evaluator.concatenate_and_transform_dfs(df_human_sample_trf, df_synthetic_sample_trf)\n",
    "model, summary = evaluator.fit_ols_logistic_regression(df_concatenated, 'choice', columns_to_exclude_ols + ['iter'])"
   ]
  },
  {
   "cell_type": "code",
   "execution_count": 12,
   "metadata": {},
   "outputs": [
    {
     "name": "stdout",
     "output_type": "stream",
     "text": [
      "                            OLS Regression Results                            \n",
      "==============================================================================\n",
      "Dep. Variable:                 choice   R-squared:                       0.477\n",
      "Model:                            OLS   Adj. R-squared:                  0.465\n",
      "Method:                 Least Squares   F-statistic:                     39.86\n",
      "Date:                Tue, 02 Jan 2024   Prob (F-statistic):           1.04e-23\n",
      "Time:                        15:45:27   Log-Likelihood:                -60.188\n",
      "No. Observations:                 180   AIC:                             130.4\n",
      "Df Residuals:                     175   BIC:                             146.3\n",
      "Df Model:                           4                                         \n",
      "Covariance Type:            nonrobust                                         \n",
      "======================================================================================================================\n",
      "                                                         coef    std err          t      P>|t|      [0.025      0.975]\n",
      "----------------------------------------------------------------------------------------------------------------------\n",
      "is_east                                                0.6663      0.073      9.076      0.000       0.521       0.811\n",
      "is_high_wealth                                     -9.531e-14   1.09e-14     -8.705      0.000   -1.17e-13   -7.37e-14\n",
      "n_housholds                                            0.8826      0.092      9.610      0.000       0.701       1.064\n",
      "kf10                                                  -0.0070      0.001     -7.988      0.000      -0.009      -0.005\n",
      "opportunity_cost                                      -0.0006   7.97e-05     -8.092      0.000      -0.001      -0.000\n",
      "total_income_level_high_income                         0.4413      0.046      9.610      0.000       0.351       0.532\n",
      "city_size_small                                        0.4413      0.046      9.610      0.000       0.351       0.532\n",
      "high_education_level_academic                          0.6663      0.073      9.076      0.000       0.521       0.811\n",
      "high_education_level_professional                     -0.2250      0.032     -7.112      0.000      -0.287      -0.163\n",
      "building_period_1978_2001                              0.4413      0.046      9.610      0.000       0.351       0.532\n",
      "prof_status_employed                                   0.4413      0.046      9.610      0.000       0.351       0.532\n",
      "building_type_freistehendes Ein-/ Zweifamilienhaus     0.4413      0.046      9.610      0.000       0.351       0.532\n",
      "is_synthetic                                          -0.2222      0.059     -3.766      0.000      -0.339      -0.106\n",
      "==============================================================================\n",
      "Omnibus:                       46.006   Durbin-Watson:                   0.468\n",
      "Prob(Omnibus):                  0.000   Jarque-Bera (JB):                8.959\n",
      "Skew:                           0.002   Prob(JB):                       0.0113\n",
      "Kurtosis:                       1.907   Cond. No.                     1.86e+38\n",
      "==============================================================================\n",
      "\n",
      "Notes:\n",
      "[1] Standard Errors assume that the covariance matrix of the errors is correctly specified.\n",
      "[2] The smallest eigenvalue is 2.47e-69. This might indicate that there are\n",
      "strong multicollinearity problems or that the design matrix is singular.\n"
     ]
    }
   ],
   "source": [
    "print(summary)"
   ]
  },
  {
   "cell_type": "markdown",
   "metadata": {},
   "source": [
    "### 3.Evaluate performance for temperature 0.6 in 3 samples over 3 iterations with custom questions"
   ]
  },
  {
   "cell_type": "code",
   "execution_count": 3,
   "metadata": {},
   "outputs": [],
   "source": [
    "output_file = '../../../data/ariadne/heating_buildings/experiment_1/20240102_1512/recurrent_gpt-4-1106-preview-t_0.6_qa.csv'\n",
    "df_synthetic_samples = pd.read_csv(output_file)"
   ]
  },
  {
   "cell_type": "code",
   "execution_count": 14,
   "metadata": {},
   "outputs": [],
   "source": [
    "evaluator = ResultEvaluator(final_columns=final_columns, opportunity_costs=opportunity_cost)\n",
    "df_sample_sel = evaluator.format_initial_data(df_sample, samples, econometric_factors, optional_factors)\n",
    "df_synthetic_pivot = evaluator.pivot_with_opportunity_cost(df_synthetic_samples)\n",
    "df_human_pivot = evaluator.pivot_with_opportunity_cost(df_sample_sel)\n",
    "df_human_sample_comp = df_sample_sel.merge(df_human_pivot, on='key')\n",
    "df_synthetic_sample_comp = df_sample_sel.merge(df_synthetic_pivot, on='key')\n",
    "df_human_sample_trf = evaluator.prepare_for_ols_logistic_regression(df_human_sample_comp)\n",
    "df_synthetic_sample_trf = evaluator.prepare_for_ols_logistic_regression(df_synthetic_sample_comp)\n",
    "model_synthetic, summary_synthetic = evaluator.fit_ols_logistic_regression(df_synthetic_sample_trf, 'choice', columns_to_exclude_ols)"
   ]
  },
  {
   "cell_type": "code",
   "execution_count": 15,
   "metadata": {},
   "outputs": [
    {
     "name": "stdout",
     "output_type": "stream",
     "text": [
      "                            OLS Regression Results                            \n",
      "==============================================================================\n",
      "Dep. Variable:                 choice   R-squared:                       0.476\n",
      "Model:                            OLS   Adj. R-squared:                  0.460\n",
      "Method:                 Least Squares   F-statistic:                     29.54\n",
      "Date:                Fri, 05 Jan 2024   Prob (F-statistic):           1.79e-17\n",
      "Time:                        10:11:17   Log-Likelihood:                -37.763\n",
      "No. Observations:                 135   AIC:                             85.53\n",
      "Df Residuals:                     130   BIC:                             100.1\n",
      "Df Model:                           4                                         \n",
      "Covariance Type:            nonrobust                                         \n",
      "======================================================================================================================\n",
      "                                                         coef    std err          t      P>|t|      [0.025      0.975]\n",
      "----------------------------------------------------------------------------------------------------------------------\n",
      "is_east                                                0.4982      0.081      6.179      0.000       0.339       0.658\n",
      "is_high_wealth                                       2.91e-14   4.73e-15      6.147      0.000    1.97e-14    3.85e-14\n",
      "n_housholds                                            0.6015      0.101      5.977      0.000       0.402       0.801\n",
      "kf10                                                  -0.0046      0.001     -4.848      0.000      -0.007      -0.003\n",
      "opportunity_cost                                      -0.0007   8.76e-05     -8.323      0.000      -0.001      -0.001\n",
      "iter                                                7.806e-17      0.034   2.27e-15      1.000      -0.068       0.068\n",
      "total_income_level_high_income                         0.3007      0.050      5.977      0.000       0.201       0.400\n",
      "city_size_small                                        0.3007      0.050      5.977      0.000       0.201       0.400\n",
      "high_education_level_academic                          0.4982      0.081      6.179      0.000       0.339       0.658\n",
      "high_education_level_professional                     -0.1975      0.035     -5.696      0.000      -0.266      -0.129\n",
      "building_period_1978_2001                              0.3007      0.050      5.977      0.000       0.201       0.400\n",
      "prof_status_employed                                   0.3007      0.050      5.977      0.000       0.201       0.400\n",
      "building_type_freistehendes Ein-/ Zweifamilienhaus     0.3007      0.050      5.977      0.000       0.201       0.400\n",
      "==============================================================================\n",
      "Omnibus:                      101.608   Durbin-Watson:                   0.590\n",
      "Prob(Omnibus):                  0.000   Jarque-Bera (JB):               10.233\n",
      "Skew:                           0.143   Prob(JB):                      0.00600\n",
      "Kurtosis:                       1.682   Cond. No.                     4.92e+36\n",
      "==============================================================================\n",
      "\n",
      "Notes:\n",
      "[1] Standard Errors assume that the covariance matrix of the errors is correctly specified.\n",
      "[2] The smallest eigenvalue is 2.63e-66. This might indicate that there are\n",
      "strong multicollinearity problems or that the design matrix is singular.\n"
     ]
    }
   ],
   "source": [
    "print(summary_synthetic)"
   ]
  },
  {
   "cell_type": "code",
   "execution_count": 16,
   "metadata": {},
   "outputs": [],
   "source": [
    "df_concatenated = evaluator.concatenate_and_transform_dfs(df_human_sample_trf, df_synthetic_sample_trf)\n",
    "model, summary = evaluator.fit_ols_logistic_regression(df_concatenated, 'choice', columns_to_exclude_ols + ['iter'])"
   ]
  },
  {
   "cell_type": "code",
   "execution_count": 17,
   "metadata": {},
   "outputs": [
    {
     "name": "stdout",
     "output_type": "stream",
     "text": [
      "                            OLS Regression Results                            \n",
      "==============================================================================\n",
      "Dep. Variable:                 choice   R-squared:                       0.477\n",
      "Model:                            OLS   Adj. R-squared:                  0.465\n",
      "Method:                 Least Squares   F-statistic:                     39.86\n",
      "Date:                Fri, 05 Jan 2024   Prob (F-statistic):           1.04e-23\n",
      "Time:                        10:11:21   Log-Likelihood:                -60.188\n",
      "No. Observations:                 180   AIC:                             130.4\n",
      "Df Residuals:                     175   BIC:                             146.3\n",
      "Df Model:                           4                                         \n",
      "Covariance Type:            nonrobust                                         \n",
      "======================================================================================================================\n",
      "                                                         coef    std err          t      P>|t|      [0.025      0.975]\n",
      "----------------------------------------------------------------------------------------------------------------------\n",
      "is_east                                                0.6663      0.073      9.076      0.000       0.521       0.811\n",
      "is_high_wealth                                     -9.531e-14   1.09e-14     -8.705      0.000   -1.17e-13   -7.37e-14\n",
      "n_housholds                                            0.8826      0.092      9.610      0.000       0.701       1.064\n",
      "kf10                                                  -0.0070      0.001     -7.988      0.000      -0.009      -0.005\n",
      "opportunity_cost                                      -0.0006   7.97e-05     -8.092      0.000      -0.001      -0.000\n",
      "total_income_level_high_income                         0.4413      0.046      9.610      0.000       0.351       0.532\n",
      "city_size_small                                        0.4413      0.046      9.610      0.000       0.351       0.532\n",
      "high_education_level_academic                          0.6663      0.073      9.076      0.000       0.521       0.811\n",
      "high_education_level_professional                     -0.2250      0.032     -7.112      0.000      -0.287      -0.163\n",
      "building_period_1978_2001                              0.4413      0.046      9.610      0.000       0.351       0.532\n",
      "prof_status_employed                                   0.4413      0.046      9.610      0.000       0.351       0.532\n",
      "building_type_freistehendes Ein-/ Zweifamilienhaus     0.4413      0.046      9.610      0.000       0.351       0.532\n",
      "is_synthetic                                          -0.2222      0.059     -3.766      0.000      -0.339      -0.106\n",
      "==============================================================================\n",
      "Omnibus:                       46.006   Durbin-Watson:                   0.468\n",
      "Prob(Omnibus):                  0.000   Jarque-Bera (JB):                8.959\n",
      "Skew:                           0.002   Prob(JB):                       0.0113\n",
      "Kurtosis:                       1.907   Cond. No.                     1.86e+38\n",
      "==============================================================================\n",
      "\n",
      "Notes:\n",
      "[1] Standard Errors assume that the covariance matrix of the errors is correctly specified.\n",
      "[2] The smallest eigenvalue is 2.47e-69. This might indicate that there are\n",
      "strong multicollinearity problems or that the design matrix is singular.\n"
     ]
    }
   ],
   "source": [
    "print(summary)"
   ]
  },
  {
   "cell_type": "code",
   "execution_count": null,
   "metadata": {},
   "outputs": [],
   "source": []
  }
 ],
 "metadata": {
  "kernelspec": {
   "display_name": "venv",
   "language": "python",
   "name": "python3"
  },
  "language_info": {
   "codemirror_mode": {
    "name": "ipython",
    "version": 3
   },
   "file_extension": ".py",
   "mimetype": "text/x-python",
   "name": "python",
   "nbconvert_exporter": "python",
   "pygments_lexer": "ipython3",
   "version": "3.8.17"
  }
 },
 "nbformat": 4,
 "nbformat_minor": 2
}
