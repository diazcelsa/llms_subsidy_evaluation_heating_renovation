{
 "cells": [
  {
   "cell_type": "markdown",
   "metadata": {},
   "source": [
    "## Quantify similarity/divergence of human vs synthetic"
   ]
  },
  {
   "cell_type": "code",
   "execution_count": 1,
   "metadata": {},
   "outputs": [],
   "source": [
    "import sys\n",
    "sys.path.append(\"../../../\")\n",
    "\n",
    "import numpy as np\n",
    "import pandas as pd\n",
    "\n",
    "from src.eval_utils.metric_calculator import ResultEvaluator\n",
    "\n",
    "import warnings\n",
    "warnings.filterwarnings('ignore')\n",
    "\n",
    "%load_ext autoreload\n",
    "%autoreload 2"
   ]
  },
  {
   "cell_type": "markdown",
   "metadata": {},
   "source": [
    "### 1. Load results"
   ]
  },
  {
   "cell_type": "code",
   "execution_count": 2,
   "metadata": {},
   "outputs": [],
   "source": [
    "samples = [806927261, 661238641, 817443461]\n",
    "final_columns = ['ea801', 'ea802', 'ea803', 'ea804', 'ea805', 'ea806', 'ea807', 'ea808', 'ea809', 'ea810', 'ea811', \n",
    "                 'ea812', 'ea813', 'ea814', 'ea815']\n",
    "opportunity_cost = [0, 50, 100, 150, 200, 250, 300, 350, 400, 450, 500, 600, 700, 900, 1200]\n",
    "# Generate dataframe for evaluation\n",
    "econometric_factors = ['is_east','total_income_level','city_size','is_high_wealth','high_education_level','building_period','prof_status',\n",
    "                       'n_housholds','building_type','kf10']\n",
    "optional_factors = ['pol_orientation','is_altruist','nature_level','ownership_level','profit_focus']\n",
    "columns_to_exclude_ols = ['success', 'label', 'temperature', 'decision', 'key', \n",
    "                      'citizen_type', 'profit_focus_long', 'profit_focus_short', \n",
    "                      'ownership_level_Medium', 'ownership_level_High', \n",
    "                      'nature_level_High', 'nature_level_Medium', \n",
    "                      'pol_orientation_left', 'pol_orientation_right', \n",
    "                      'pol_orientation_center', 'is_altruist']\n",
    "\n",
    "df_sample = pd.read_csv(\"../../../data/ariadne/heating_buildings/df_cata_sample_50_processed_relevant_factors_citizen_type.csv\", encoding='ISO-8859-1')\n",
    "df_questions = pd.read_csv(\"../../../data/ariadne/heating_buildings/questions_selected_survey_mapper_encoded.csv\", sep=';', encoding='utf-8', on_bad_lines='skip')"
   ]
  },
  {
   "cell_type": "markdown",
   "metadata": {},
   "source": [
    "### 2.Evaluate performance for temperature 0.5 in 3 samples over 3 iterations"
   ]
  },
  {
   "cell_type": "code",
   "execution_count": 3,
   "metadata": {},
   "outputs": [],
   "source": [
    "output_file = '../../../data/ariadne/heating_buildings/experiment_1/20231230_1107/recurrent_gpt-4-1106-preview-t_0.5_qa.csv'\n",
    "df_synthetic_samples = pd.read_csv(output_file)"
   ]
  },
  {
   "cell_type": "code",
   "execution_count": 4,
   "metadata": {},
   "outputs": [],
   "source": [
    "evaluator = ResultEvaluator(final_columns=final_columns, opportunity_costs=opportunity_cost)\n",
    "df_sample_sel = evaluator.format_initial_data(df_sample, samples, econometric_factors, optional_factors)\n",
    "df_synthetic_pivot = evaluator.pivot_with_opportunity_cost(df_synthetic_samples)\n",
    "df_human_pivot = evaluator.pivot_with_opportunity_cost(df_sample_sel)\n",
    "df_human_sample_comp = df_sample_sel.merge(df_human_pivot, on='key')\n",
    "df_synthetic_sample_comp = df_sample_sel.merge(df_synthetic_pivot, on='key')\n",
    "df_human_sample_trf = evaluator.prepare_for_ols_logistic_regression(df_human_sample_comp)\n",
    "df_synthetic_sample_trf = evaluator.prepare_for_ols_logistic_regression(df_synthetic_sample_comp)\n",
    "model_synthetic, summary_synthetic = evaluator.fit_ols_logistic_regression(df_synthetic_sample_trf, 'choice', columns_to_exclude_ols)"
   ]
  },
  {
   "cell_type": "code",
   "execution_count": 5,
   "metadata": {},
   "outputs": [
    {
     "name": "stdout",
     "output_type": "stream",
     "text": [
      "                            OLS Regression Results                            \n",
      "==============================================================================\n",
      "Dep. Variable:                 choice   R-squared:                       0.386\n",
      "Model:                            OLS   Adj. R-squared:                  0.367\n",
      "Method:                 Least Squares   F-statistic:                     20.45\n",
      "Date:                Sat, 30 Dec 2023   Prob (F-statistic):           4.37e-13\n",
      "Time:                        11:16:05   Log-Likelihood:                -64.739\n",
      "No. Observations:                 135   AIC:                             139.5\n",
      "Df Residuals:                     130   BIC:                             154.0\n",
      "Df Model:                           4                                         \n",
      "Covariance Type:            nonrobust                                         \n",
      "======================================================================================================================\n",
      "                                                         coef    std err          t      P>|t|      [0.025      0.975]\n",
      "----------------------------------------------------------------------------------------------------------------------\n",
      "is_east                                               -0.2387      0.098     -2.424      0.017      -0.434      -0.044\n",
      "is_high_wealth                                     -1.716e-14   5.78e-15     -2.967      0.004   -2.86e-14   -5.72e-15\n",
      "n_housholds                                           -0.1071      0.123     -0.871      0.385      -0.350       0.136\n",
      "kf10                                                   0.0031      0.001      2.646      0.009       0.001       0.005\n",
      "opportunity_cost                                      -0.0008      0.000     -7.328      0.000      -0.001      -0.001\n",
      "iter                                                  -0.1889      0.042     -4.499      0.000      -0.272      -0.106\n",
      "total_income_level_high_income                        -0.0535      0.061     -0.871      0.385      -0.175       0.068\n",
      "city_size_small                                       -0.0535      0.061     -0.871      0.385      -0.175       0.068\n",
      "high_education_level_academic                         -0.2387      0.098     -2.424      0.017      -0.434      -0.044\n",
      "high_education_level_professional                      0.1852      0.042      4.373      0.000       0.101       0.269\n",
      "building_period_1978_2001                             -0.0535      0.061     -0.871      0.385      -0.175       0.068\n",
      "prof_status_employed                                  -0.0535      0.061     -0.871      0.385      -0.175       0.068\n",
      "building_type_freistehendes Ein-/ Zweifamilienhaus    -0.0535      0.061     -0.871      0.385      -0.175       0.068\n",
      "==============================================================================\n",
      "Omnibus:                       12.758   Durbin-Watson:                   0.521\n",
      "Prob(Omnibus):                  0.002   Jarque-Bera (JB):                4.794\n",
      "Skew:                          -0.137   Prob(JB):                       0.0910\n",
      "Kurtosis:                       2.119   Cond. No.                     4.92e+36\n",
      "==============================================================================\n",
      "\n",
      "Notes:\n",
      "[1] Standard Errors assume that the covariance matrix of the errors is correctly specified.\n",
      "[2] The smallest eigenvalue is 2.63e-66. This might indicate that there are\n",
      "strong multicollinearity problems or that the design matrix is singular.\n"
     ]
    }
   ],
   "source": [
    "print(summary_synthetic)"
   ]
  },
  {
   "cell_type": "code",
   "execution_count": 111,
   "metadata": {},
   "outputs": [],
   "source": [
    "df_concatenated = evaluator.concatenate_and_transform_dfs(df_human_sample_trf, df_synthetic_sample_trf)\n",
    "model, summary = evaluator.fit_ols_logistic_regression(df_concatenated, 'choice', columns_to_exclude_ols + ['iter'])"
   ]
  },
  {
   "cell_type": "code",
   "execution_count": 112,
   "metadata": {},
   "outputs": [
    {
     "name": "stdout",
     "output_type": "stream",
     "text": [
      "                            OLS Regression Results                            \n",
      "==============================================================================\n",
      "Dep. Variable:                 choice   R-squared:                       0.214\n",
      "Model:                            OLS   Adj. R-squared:                  0.196\n",
      "Method:                 Least Squares   F-statistic:                     11.89\n",
      "Date:                Sat, 30 Dec 2023   Prob (F-statistic):           1.45e-08\n",
      "Time:                        04:09:35   Log-Likelihood:                -108.61\n",
      "No. Observations:                 180   AIC:                             227.2\n",
      "Df Residuals:                     175   BIC:                             243.2\n",
      "Df Model:                           4                                         \n",
      "Covariance Type:            nonrobust                                         \n",
      "======================================================================================================================\n",
      "                                                         coef    std err          t      P>|t|      [0.025      0.975]\n",
      "----------------------------------------------------------------------------------------------------------------------\n",
      "is_east                                                0.0586      0.096      0.610      0.543      -0.131       0.248\n",
      "is_high_wealth                                     -2.095e-15   1.43e-14     -0.146      0.884   -3.04e-14    2.62e-14\n",
      "n_housholds                                            0.2335      0.120      1.943      0.054      -0.004       0.471\n",
      "kf10                                                  -0.0007      0.001     -0.610      0.542      -0.003       0.002\n",
      "opportunity_cost                                      -0.0007      0.000     -6.743      0.000      -0.001      -0.000\n",
      "total_income_level_high_income                         0.1167      0.060      1.943      0.054      -0.002       0.235\n",
      "city_size_small                                        0.1167      0.060      1.943      0.054      -0.002       0.235\n",
      "high_education_level_academic                          0.0586      0.096      0.610      0.543      -0.131       0.248\n",
      "high_education_level_professional                      0.0581      0.041      1.404      0.162      -0.024       0.140\n",
      "building_period_1978_2001                              0.1167      0.060      1.943      0.054      -0.002       0.235\n",
      "prof_status_employed                                   0.1167      0.060      1.943      0.054      -0.002       0.235\n",
      "building_type_freistehendes Ein-/ Zweifamilienhaus     0.1167      0.060      1.943      0.054      -0.002       0.235\n",
      "is_synthetic                                           0.0593      0.077      0.767      0.444      -0.093       0.212\n",
      "==============================================================================\n",
      "Omnibus:                       43.151   Durbin-Watson:                   0.412\n",
      "Prob(Omnibus):                  0.000   Jarque-Bera (JB):                8.949\n",
      "Skew:                          -0.087   Prob(JB):                       0.0114\n",
      "Kurtosis:                       1.922   Cond. No.                     1.86e+38\n",
      "==============================================================================\n",
      "\n",
      "Notes:\n",
      "[1] Standard Errors assume that the covariance matrix of the errors is correctly specified.\n",
      "[2] The smallest eigenvalue is 2.47e-69. This might indicate that there are\n",
      "strong multicollinearity problems or that the design matrix is singular.\n"
     ]
    }
   ],
   "source": [
    "print(summary)"
   ]
  },
  {
   "cell_type": "markdown",
   "metadata": {},
   "source": [
    "### 3.Evaluate performance for temperature 0.7 in 3 samples over 3 iterations"
   ]
  },
  {
   "cell_type": "code",
   "execution_count": 8,
   "metadata": {},
   "outputs": [],
   "source": [
    "output_file = '../../../data/ariadne/heating_buildings/experiment_1/20231230_1113/recurrent_gpt-4-1106-preview-t_0.7_qa.csv'\n",
    "df_synthetic_samples = pd.read_csv(output_file)"
   ]
  },
  {
   "cell_type": "code",
   "execution_count": 9,
   "metadata": {},
   "outputs": [],
   "source": [
    "evaluator = ResultEvaluator(final_columns=final_columns, opportunity_costs=opportunity_cost)\n",
    "df_sample_sel = evaluator.format_initial_data(df_sample, samples, econometric_factors, optional_factors)\n",
    "df_synthetic_pivot = evaluator.pivot_with_opportunity_cost(df_synthetic_samples)\n",
    "df_human_pivot = evaluator.pivot_with_opportunity_cost(df_sample_sel)\n",
    "df_human_sample_comp = df_sample_sel.merge(df_human_pivot, on='key')\n",
    "df_synthetic_sample_comp = df_sample_sel.merge(df_synthetic_pivot, on='key')\n",
    "df_human_sample_trf = evaluator.prepare_for_ols_logistic_regression(df_human_sample_comp)\n",
    "df_synthetic_sample_trf = evaluator.prepare_for_ols_logistic_regression(df_synthetic_sample_comp)\n",
    "model_synthetic, summary_synthetic = evaluator.fit_ols_logistic_regression(df_synthetic_sample_trf, 'choice', columns_to_exclude_ols)"
   ]
  },
  {
   "cell_type": "code",
   "execution_count": 10,
   "metadata": {},
   "outputs": [
    {
     "name": "stdout",
     "output_type": "stream",
     "text": [
      "                            OLS Regression Results                            \n",
      "==============================================================================\n",
      "Dep. Variable:                 choice   R-squared:                       0.523\n",
      "Model:                            OLS   Adj. R-squared:                  0.508\n",
      "Method:                 Least Squares   F-statistic:                     35.59\n",
      "Date:                Sat, 30 Dec 2023   Prob (F-statistic):           4.62e-20\n",
      "Time:                        11:20:10   Log-Likelihood:                -32.641\n",
      "No. Observations:                 135   AIC:                             75.28\n",
      "Df Residuals:                     130   BIC:                             89.81\n",
      "Df Model:                           4                                         \n",
      "Covariance Type:            nonrobust                                         \n",
      "======================================================================================================================\n",
      "                                                         coef    std err          t      P>|t|      [0.025      0.975]\n",
      "----------------------------------------------------------------------------------------------------------------------\n",
      "is_east                                               -0.6557      0.078     -8.447      0.000      -0.809      -0.502\n",
      "is_high_wealth                                     -3.862e-14   4.56e-15     -8.473      0.000   -4.76e-14   -2.96e-14\n",
      "n_housholds                                           -0.7666      0.097     -7.912      0.000      -0.958      -0.575\n",
      "kf10                                                   0.0090      0.001      9.735      0.000       0.007       0.011\n",
      "opportunity_cost                                      -0.0005   8.43e-05     -5.669      0.000      -0.001      -0.000\n",
      "iter                                                   0.1000      0.033      3.021      0.003       0.035       0.165\n",
      "total_income_level_high_income                        -0.3833      0.048     -7.912      0.000      -0.479      -0.287\n",
      "city_size_small                                       -0.3833      0.048     -7.912      0.000      -0.479      -0.287\n",
      "high_education_level_academic                         -0.6557      0.078     -8.447      0.000      -0.809      -0.502\n",
      "high_education_level_professional                      0.2724      0.033      8.161      0.000       0.206       0.338\n",
      "building_period_1978_2001                             -0.3833      0.048     -7.912      0.000      -0.479      -0.287\n",
      "prof_status_employed                                  -0.3833      0.048     -7.912      0.000      -0.479      -0.287\n",
      "building_type_freistehendes Ein-/ Zweifamilienhaus    -0.3833      0.048     -7.912      0.000      -0.479      -0.287\n",
      "==============================================================================\n",
      "Omnibus:                        0.552   Durbin-Watson:                   0.482\n",
      "Prob(Omnibus):                  0.759   Jarque-Bera (JB):                0.696\n",
      "Skew:                          -0.099   Prob(JB):                        0.706\n",
      "Kurtosis:                       2.709   Cond. No.                     4.92e+36\n",
      "==============================================================================\n",
      "\n",
      "Notes:\n",
      "[1] Standard Errors assume that the covariance matrix of the errors is correctly specified.\n",
      "[2] The smallest eigenvalue is 2.63e-66. This might indicate that there are\n",
      "strong multicollinearity problems or that the design matrix is singular.\n"
     ]
    }
   ],
   "source": [
    "print(summary_synthetic)"
   ]
  },
  {
   "cell_type": "code",
   "execution_count": 11,
   "metadata": {},
   "outputs": [],
   "source": [
    "df_concatenated = evaluator.concatenate_and_transform_dfs(df_human_sample_trf, df_synthetic_sample_trf)\n",
    "model, summary = evaluator.fit_ols_logistic_regression(df_concatenated, 'choice', columns_to_exclude_ols + ['iter'])"
   ]
  },
  {
   "cell_type": "code",
   "execution_count": 12,
   "metadata": {},
   "outputs": [
    {
     "name": "stdout",
     "output_type": "stream",
     "text": [
      "                            OLS Regression Results                            \n",
      "==============================================================================\n",
      "Dep. Variable:                 choice   R-squared:                       0.195\n",
      "Model:                            OLS   Adj. R-squared:                  0.176\n",
      "Method:                 Least Squares   F-statistic:                     10.58\n",
      "Date:                Sat, 30 Dec 2023   Prob (F-statistic):           1.06e-07\n",
      "Time:                        11:20:29   Log-Likelihood:                -100.55\n",
      "No. Observations:                 180   AIC:                             211.1\n",
      "Df Residuals:                     175   BIC:                             227.1\n",
      "Df Model:                           4                                         \n",
      "Covariance Type:            nonrobust                                         \n",
      "======================================================================================================================\n",
      "                                                         coef    std err          t      P>|t|      [0.025      0.975]\n",
      "----------------------------------------------------------------------------------------------------------------------\n",
      "is_east                                               -0.2085      0.092     -2.269      0.024      -0.390      -0.027\n",
      "is_high_wealth                                      3.271e-14   1.37e-14      2.388      0.018    5.67e-15    5.98e-14\n",
      "n_housholds                                           -0.1992      0.115     -1.733      0.085      -0.426       0.028\n",
      "kf10                                                   0.0033      0.001      2.979      0.003       0.001       0.005\n",
      "opportunity_cost                                      -0.0005   9.98e-05     -4.580      0.000      -0.001      -0.000\n",
      "total_income_level_high_income                        -0.0996      0.057     -1.733      0.085      -0.213       0.014\n",
      "city_size_small                                       -0.0996      0.057     -1.733      0.085      -0.213       0.014\n",
      "high_education_level_academic                         -0.2085      0.092     -2.269      0.024      -0.390      -0.027\n",
      "high_education_level_professional                      0.1089      0.040      2.749      0.007       0.031       0.187\n",
      "building_period_1978_2001                             -0.0996      0.057     -1.733      0.085      -0.213       0.014\n",
      "prof_status_employed                                  -0.0996      0.057     -1.733      0.085      -0.213       0.014\n",
      "building_type_freistehendes Ein-/ Zweifamilienhaus    -0.0996      0.057     -1.733      0.085      -0.213       0.014\n",
      "is_synthetic                                           0.2370      0.074      3.210      0.002       0.091       0.383\n",
      "==============================================================================\n",
      "Omnibus:                       23.198   Durbin-Watson:                   0.255\n",
      "Prob(Omnibus):                  0.000   Jarque-Bera (JB):                8.786\n",
      "Skew:                          -0.287   Prob(JB):                       0.0124\n",
      "Kurtosis:                       2.082   Cond. No.                     1.86e+38\n",
      "==============================================================================\n",
      "\n",
      "Notes:\n",
      "[1] Standard Errors assume that the covariance matrix of the errors is correctly specified.\n",
      "[2] The smallest eigenvalue is 2.47e-69. This might indicate that there are\n",
      "strong multicollinearity problems or that the design matrix is singular.\n"
     ]
    }
   ],
   "source": [
    "print(summary)"
   ]
  },
  {
   "cell_type": "code",
   "execution_count": null,
   "metadata": {},
   "outputs": [],
   "source": []
  }
 ],
 "metadata": {
  "kernelspec": {
   "display_name": "venv",
   "language": "python",
   "name": "python3"
  },
  "language_info": {
   "codemirror_mode": {
    "name": "ipython",
    "version": 3
   },
   "file_extension": ".py",
   "mimetype": "text/x-python",
   "name": "python",
   "nbconvert_exporter": "python",
   "pygments_lexer": "ipython3",
   "version": "3.8.17"
  }
 },
 "nbformat": 4,
 "nbformat_minor": 2
}
